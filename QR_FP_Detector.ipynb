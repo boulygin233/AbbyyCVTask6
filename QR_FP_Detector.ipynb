{
 "cells": [
  {
   "cell_type": "code",
   "execution_count": 62,
   "id": "7325d514",
   "metadata": {},
   "outputs": [],
   "source": [
    "import cv2\n",
    "import numpy as np\n",
    "from tqdm.notebook import tqdm\n",
    "from time import time\n",
    "import os\n",
    "\n",
    "LENGTH_TH = 0.15\n",
    "AREA_TH = 1000"
   ]
  },
  {
   "cell_type": "markdown",
   "id": "1e1b475f",
   "metadata": {},
   "source": [
    "## Описание\n",
    "\n",
    "Решение простое - будем искать на картинке квадратики с двумя и более вложениями, которые сами ни во что не вложены.\n",
    "Для этого предобработаем картинку устранив некоторую часть шумов и оставим только границы с помощью оператора Кэнни. Затем отсечем все контуры, после чего отфильтруем из них те, которые подходят под наши требования."
   ]
  },
  {
   "cell_type": "code",
   "execution_count": 63,
   "id": "5589930f",
   "metadata": {},
   "outputs": [],
   "source": [
    "def count_children(hierarchy, parent, inner=False):\n",
    "    if parent == -1:\n",
    "        return 0\n",
    "    elif not inner:\n",
    "        return count_children(hierarchy, hierarchy[parent][2], True)\n",
    "    return count_children(hierarchy, hierarchy[parent][0], True) + count_children(hierarchy, hierarchy[parent][2], True) + 1\n",
    "\n",
    "def has_square_parent(hierarchy, squares, parent):\n",
    "    if hierarchy[parent][3] == -1:\n",
    "        return False\n",
    "    if hierarchy[parent][3] in squares:\n",
    "        return True\n",
    "    return has_square_parent(hierarchy, squares, hierarchy[parent][3])\n",
    "\n",
    "def detect(image):\n",
    "    gray = cv2.cvtColor(image, cv2.COLOR_BGR2GRAY)\n",
    "    gray = cv2.bilateralFilter(gray, 11, 17, 17)\n",
    "    gray = cv2.GaussianBlur(gray, (3, 3), 0)\n",
    "    edged = cv2.Canny(gray, 30, 200)\n",
    "\n",
    "    contours, hierarchy = cv2.findContours(edged.copy(), cv2.RETR_TREE, cv2.CHAIN_APPROX_SIMPLE)\n",
    "\n",
    "    squares = []\n",
    "    square_indices = []\n",
    "    \n",
    "    for i, contour in enumerate(contours):\n",
    "        length = cv2.arcLength(contour, True)\n",
    "        area = cv2.contourArea(contour)\n",
    "        approx = cv2.approxPolyDP(contour, 0.03 * length, True)\n",
    "\n",
    "        if len(approx) == 4:\n",
    "            childrens = count_children(hierarchy[0], i)\n",
    "            has_parent = has_square_parent(hierarchy[0], square_indices, i)\n",
    "            \n",
    "            if area > AREA_TH and np.abs(((length / 4) ** 2) / area - 1) < LENGTH_TH and childrens > 1 and not has_parent:\n",
    "                squares.append(approx)\n",
    "                square_indices.append(i)\n",
    "\n",
    "    cv2.drawContours(image, squares, -1, (0, 0, 255), 5)\n",
    "\n",
    "    return image"
   ]
  },
  {
   "cell_type": "code",
   "execution_count": 64,
   "id": "27c52eb4",
   "metadata": {},
   "outputs": [
    {
     "data": {
      "application/vnd.jupyter.widget-view+json": {
       "model_id": "2cfec3e7ac40441a9ebf9b0f89ede9c2",
       "version_major": 2,
       "version_minor": 0
      },
      "text/plain": [
       "HBox(children=(FloatProgress(value=0.0, max=3.0), HTML(value='')))"
      ]
     },
     "metadata": {},
     "output_type": "display_data"
    },
    {
     "data": {
      "application/vnd.jupyter.widget-view+json": {
       "model_id": "ed86be60de04426fb0c6307451ebb14d",
       "version_major": 2,
       "version_minor": 0
      },
      "text/plain": [
       "HBox(children=(FloatProgress(value=0.0, max=47.0), HTML(value='')))"
      ]
     },
     "metadata": {},
     "output_type": "display_data"
    },
    {
     "name": "stdout",
     "output_type": "stream",
     "text": [
      "\n"
     ]
    },
    {
     "data": {
      "application/vnd.jupyter.widget-view+json": {
       "model_id": "d4ef635678f94275823c6ae507b22f69",
       "version_major": 2,
       "version_minor": 0
      },
      "text/plain": [
       "HBox(children=(FloatProgress(value=0.0, max=48.0), HTML(value='')))"
      ]
     },
     "metadata": {},
     "output_type": "display_data"
    },
    {
     "name": "stdout",
     "output_type": "stream",
     "text": [
      "\n"
     ]
    },
    {
     "data": {
      "application/vnd.jupyter.widget-view+json": {
       "model_id": "2f75be53d5c842edb1e354efbacfe732",
       "version_major": 2,
       "version_minor": 0
      },
      "text/plain": [
       "HBox(children=(FloatProgress(value=0.0, max=150.0), HTML(value='')))"
      ]
     },
     "metadata": {},
     "output_type": "display_data"
    },
    {
     "name": "stdout",
     "output_type": "stream",
     "text": [
      "\n",
      "\n",
      "71.1734766960144\n"
     ]
    }
   ],
   "source": [
    "start = time()\n",
    "for i in tqdm([\"1\", \"2\", \"3\"]):\n",
    "    for image_name in tqdm(os.listdir(\"TestSet\" + i)):\n",
    "        image = cv2.imread(\"TestSet\" + i + '/' + image_name)\n",
    "        output = detect(image)\n",
    "        cv2.imwrite(\"TestSet\" + i + 'Result/' + image_name, output)\n",
    "print(time() - start)"
   ]
  },
  {
   "cell_type": "markdown",
   "id": "0f14dbed",
   "metadata": {},
   "source": [
    "## Вывод\n",
    "Время работы - 0.28 сек/картинка\n",
    "\n",
    "Метрики:\n",
    "\n",
    "| Dataset     | Precision  | Recall |\n",
    "| :----:      |   :----:   | :----: |\n",
    "| TestSet1    | 0.87       | 0.86   |\n",
    "| TestSet2    | 0.87       | 0.78   |\n",
    "| TestSet3    | 0.47       | 0.69   |\n",
    "\n",
    "Просадку в точности можно объяснить несовершенством поиска квадратов, как таковых, поскольку на ряде картинок есть квадраты, не удовлетворявшие условиям отбора, но при этом выделенные детектором"
   ]
  }
 ],
 "metadata": {
  "kernelspec": {
   "display_name": "Python 3",
   "language": "python",
   "name": "python3"
  },
  "language_info": {
   "codemirror_mode": {
    "name": "ipython",
    "version": 3
   },
   "file_extension": ".py",
   "mimetype": "text/x-python",
   "name": "python",
   "nbconvert_exporter": "python",
   "pygments_lexer": "ipython3",
   "version": "3.6.9"
  }
 },
 "nbformat": 4,
 "nbformat_minor": 5
}
